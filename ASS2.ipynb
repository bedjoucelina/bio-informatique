{
 "cells": [
  {
   "cell_type": "code",
   "execution_count": 1,
   "id": "fa11889b",
   "metadata": {},
   "outputs": [
    {
     "name": "stdout",
     "output_type": "stream",
     "text": [
      "Current Working Directory: /home/celina/Bureau/L3-saclay/S2/BI/homework_BEDJOU_celina2/standoff/Assignement2\n"
     ]
    }
   ],
   "source": [
    "#get the current directory\n",
    "import os\n",
    "print(\"Current Working Directory:\", os.getcwd())"
   ]
  },
  {
   "cell_type": "code",
   "execution_count": 2,
   "id": "422b05ce",
   "metadata": {},
   "outputs": [],
   "source": [
    "#THE TXT FILES MUST BE PLACED IN THE SAME DIRECOTRY"
   ]
  },
  {
   "cell_type": "code",
   "execution_count": 3,
   "id": "490728e0",
   "metadata": {},
   "outputs": [
    {
     "name": "stdout",
     "output_type": "stream",
     "text": [
      "then number of texts in corpus : 595\n"
     ]
    }
   ],
   "source": [
    "folder_path = os.getcwd()\n",
    "# Initialize an empty list to store file contents\n",
    "contents_list = []\n",
    "# Loop through each file in the folder\n",
    "for filename in os.listdir(folder_path):\n",
    "    file_path = os.path.join(folder_path, filename)\n",
    "\n",
    "    # Check if the path is a file (not a directory)\n",
    "    if os.path.isfile(file_path):\n",
    "        # Open the file in read mode\n",
    "        with open(file_path, 'r') as file:\n",
    "            #Read the content and append it to the list\n",
    "            file_content = file.read()\n",
    "            contents_list.append(file_content)\n",
    "\n",
    "print (\"then number of texts in corpus :\",len(contents_list))\n"
   ]
  },
  {
   "cell_type": "code",
   "execution_count": 4,
   "id": "d0f5dcd1",
   "metadata": {},
   "outputs": [
    {
     "name": "stderr",
     "output_type": "stream",
     "text": [
      "[nltk_data] Downloading package punkt to /home/celina/nltk_data...\n",
      "[nltk_data]   Package punkt is already up-to-date!\n",
      "[nltk_data] Downloading package universal_tagset to\n",
      "[nltk_data]     /home/celina/nltk_data...\n",
      "[nltk_data]   Package universal_tagset is already up-to-date!\n"
     ]
    },
    {
     "data": {
      "text/plain": [
       "True"
      ]
     },
     "execution_count": 4,
     "metadata": {},
     "output_type": "execute_result"
    }
   ],
   "source": [
    "from sklearn.feature_extraction.text import TfidfVectorizer, CountVectorizer\n",
    "import nltk\n",
    "from nltk.stem import PorterStemmer\n",
    "\n",
    "from nltk.tokenize import word_tokenize\n",
    "from nltk.stem import WordNetLemmatizer\n",
    "from sklearn.feature_extraction.text import ENGLISH_STOP_WORDS\n",
    "nltk.download('punkt')\n",
    "nltk.download('universal_tagset')\n"
   ]
  },
  {
   "cell_type": "code",
   "execution_count": 5,
   "id": "487d1a14",
   "metadata": {},
   "outputs": [],
   "source": [
    "#Vocabulary"
   ]
  },
  {
   "cell_type": "code",
   "execution_count": 6,
   "id": "57a1540c",
   "metadata": {},
   "outputs": [
    {
     "name": "stderr",
     "output_type": "stream",
     "text": [
      "2024-01-30 23:38:46.385473: W tensorflow/stream_executor/platform/default/dso_loader.cc:64] Could not load dynamic library 'libcudart.so.11.0'; dlerror: libcudart.so.11.0: cannot open shared object file: No such file or directory\n",
      "2024-01-30 23:38:46.385488: I tensorflow/stream_executor/cuda/cudart_stub.cc:29] Ignore above cudart dlerror if you do not have a GPU set up on your machine.\n",
      "2024-01-30 23:38:47.203164: W tensorflow/stream_executor/platform/default/dso_loader.cc:64] Could not load dynamic library 'libcuda.so.1'; dlerror: libcuda.so.1: cannot open shared object file: No such file or directory\n",
      "2024-01-30 23:38:47.203179: W tensorflow/stream_executor/cuda/cuda_driver.cc:269] failed call to cuInit: UNKNOWN ERROR (303)\n",
      "2024-01-30 23:38:47.203189: I tensorflow/stream_executor/cuda/cuda_diagnostics.cc:156] kernel driver does not appear to be running on this host (celina-XPS-13-9305): /proc/driver/nvidia/version does not exist\n",
      "/home/celina/.local/lib/python3.10/site-packages/spacy/util.py:910: UserWarning: [W095] Model 'en_core_web_sm' (3.5.0) was trained with spaCy v3.5.0 and may not be 100% compatible with the current version (3.6.1). If you see errors or degraded performance, download a newer compatible model or retrain your custom model with the current spaCy version. For more details and available updates, run: python -m spacy validate\n",
      "  warnings.warn(warn_msg)\n"
     ]
    }
   ],
   "source": [
    "from sklearn.feature_extraction.text import CountVectorizer\n",
    "import spacy\n",
    "from collections import Counter\n",
    "\n",
    "nlp = spacy.load(\"en_core_web_sm\")"
   ]
  },
  {
   "cell_type": "code",
   "execution_count": 33,
   "id": "224c81a0",
   "metadata": {},
   "outputs": [],
   "source": [
    "contents_list_preroceced = []\n",
    "vocabulary = []\n",
    "for text in contents_list[:100]:\n",
    "    doc = nlp(text)\n",
    "    #LEMMATIZATION\n",
    "    lemmas = [token.lemma_.lower() for token in doc if token.is_alpha and not token.is_stop]\n",
    "    vocabulary.extend(lemmas)\n",
    "    text_lemma = \" \".join(lemmas)\n",
    "    contents_list_preroceced.append(text_lemma)"
   ]
  },
  {
   "cell_type": "code",
   "execution_count": 40,
   "id": "2b57ba11",
   "metadata": {},
   "outputs": [
    {
     "name": "stdout",
     "output_type": "stream",
     "text": [
      "100\n"
     ]
    }
   ],
   "source": [
    "\n",
    "print(len(contents_list_preroceced))\n"
   ]
  },
  {
   "cell_type": "code",
   "execution_count": 41,
   "id": "3c95674d",
   "metadata": {},
   "outputs": [
    {
     "name": "stdout",
     "output_type": "stream",
     "text": [
      "The size of the vocabulary :  10991\n"
     ]
    }
   ],
   "source": [
    "print(\"The size of the vocabulary : \",len(vocabulary))"
   ]
  },
  {
   "cell_type": "code",
   "execution_count": 38,
   "id": "a00bf841",
   "metadata": {},
   "outputs": [
    {
     "name": "stdout",
     "output_type": "stream",
     "text": [
      "mutation: 237 times\n",
      "gene: 195 times\n",
      "patient: 145 times\n",
      "family: 119 times\n",
      "cancer: 97 times\n",
      "deficiency: 87 times\n",
      "result: 71 times\n",
      "disease: 69 times\n",
      "analysis: 68 times\n",
      "identify: 62 times\n",
      "deletion: 62 times\n",
      "cell: 62 times\n",
      "normal: 59 times\n",
      "exon: 58 times\n",
      "allele: 58 times\n",
      "protein: 53 times\n",
      "type: 51 times\n",
      "study: 50 times\n",
      "chromosome: 50 times\n",
      "find: 49 times\n",
      "The number of unique words is :  2360\n"
     ]
    }
   ],
   "source": [
    "from collections import Counter\n",
    "\n",
    "# Count the frequency of each word in the vocabulary\n",
    "word_freq = Counter(vocabulary)\n",
    "\n",
    "# Sort the words based on their frequency in descending order\n",
    "sorted_words = sorted(word_freq.items(), key=lambda x: x[1], reverse=True)\n",
    "# Print the 20 most used words\n",
    "for word, freq in sorted_words[:20]:\n",
    "    print(f\"{word}: {freq} times\")\n",
    "\n",
    "# Extract the sorted words\n",
    "sorted_words = [word for word, freq in sorted_words]\n",
    "one_hot_encoding_vocabulary = sorted_words\n",
    "print(\"The number of unique words is : \",len(one_hot_encoding_vocabulary))"
   ]
  },
  {
   "cell_type": "code",
   "execution_count": 39,
   "id": "0fad8733",
   "metadata": {},
   "outputs": [
    {
     "name": "stdout",
     "output_type": "stream",
     "text": [
      "[[0.         0.         0.124942   ... 0.         0.         0.        ]\n",
      " [0.         0.03562942 0.         ... 0.         0.         0.        ]\n",
      " [0.         0.13255063 0.0553689  ... 0.         0.         0.        ]\n",
      " ...\n",
      " [0.07591347 0.03133061 0.         ... 0.         0.         0.        ]\n",
      " [0.         0.         0.         ... 0.         0.         0.        ]\n",
      " [0.         0.03136736 0.         ... 0.11897769 0.11897769 0.11897769]]\n"
     ]
    }
   ],
   "source": [
    "vectorizer = TfidfVectorizer(vocabulary = one_hot_encoding_vocabulary)\n",
    "\n",
    "X = vectorizer.fit_transform(contents_list_preroceced)\n",
    "\n",
    "feature_names = vectorizer.get_feature_names_out()\n",
    "\n",
    "matrixe = X.toarray()\n",
    "\n",
    "print(matrixe)"
   ]
  },
  {
   "cell_type": "code",
   "execution_count": null,
   "id": "e4f92fc0",
   "metadata": {},
   "outputs": [],
   "source": []
  },
  {
   "cell_type": "code",
   "execution_count": 6,
   "id": "6ef3d85b",
   "metadata": {},
   "outputs": [],
   "source": []
  },
  {
   "cell_type": "code",
   "execution_count": null,
   "id": "2983ef8a",
   "metadata": {},
   "outputs": [],
   "source": []
  },
  {
   "cell_type": "code",
   "execution_count": null,
   "id": "2a31ba21",
   "metadata": {},
   "outputs": [],
   "source": []
  },
  {
   "cell_type": "code",
   "execution_count": null,
   "id": "23c720aa",
   "metadata": {},
   "outputs": [],
   "source": []
  },
  {
   "cell_type": "code",
   "execution_count": null,
   "id": "f0be4e1b",
   "metadata": {},
   "outputs": [],
   "source": []
  },
  {
   "cell_type": "code",
   "execution_count": null,
   "id": "ebbd47fe",
   "metadata": {},
   "outputs": [],
   "source": []
  },
  {
   "cell_type": "code",
   "execution_count": null,
   "id": "b560e758",
   "metadata": {},
   "outputs": [],
   "source": []
  },
  {
   "cell_type": "code",
   "execution_count": null,
   "id": "3fea47b9",
   "metadata": {},
   "outputs": [],
   "source": []
  },
  {
   "cell_type": "code",
   "execution_count": null,
   "id": "2a44ba31",
   "metadata": {},
   "outputs": [],
   "source": []
  },
  {
   "cell_type": "code",
   "execution_count": null,
   "id": "147c022f",
   "metadata": {},
   "outputs": [],
   "source": []
  },
  {
   "cell_type": "code",
   "execution_count": null,
   "id": "84642b4a",
   "metadata": {},
   "outputs": [],
   "source": []
  },
  {
   "cell_type": "code",
   "execution_count": null,
   "id": "368dda3f",
   "metadata": {},
   "outputs": [],
   "source": []
  },
  {
   "cell_type": "code",
   "execution_count": null,
   "id": "7f26fd08",
   "metadata": {},
   "outputs": [],
   "source": []
  },
  {
   "cell_type": "code",
   "execution_count": null,
   "id": "d893f8b9",
   "metadata": {},
   "outputs": [],
   "source": []
  },
  {
   "cell_type": "code",
   "execution_count": null,
   "id": "60567f0e",
   "metadata": {},
   "outputs": [],
   "source": []
  },
  {
   "cell_type": "code",
   "execution_count": null,
   "id": "7c3ffc9e",
   "metadata": {},
   "outputs": [],
   "source": []
  },
  {
   "cell_type": "code",
   "execution_count": null,
   "id": "270c90a1",
   "metadata": {},
   "outputs": [],
   "source": []
  },
  {
   "cell_type": "code",
   "execution_count": null,
   "id": "2ef04d6f",
   "metadata": {},
   "outputs": [],
   "source": []
  },
  {
   "cell_type": "code",
   "execution_count": null,
   "id": "d5c629f8",
   "metadata": {},
   "outputs": [],
   "source": []
  },
  {
   "cell_type": "code",
   "execution_count": null,
   "id": "9c5d8923",
   "metadata": {},
   "outputs": [],
   "source": []
  },
  {
   "cell_type": "code",
   "execution_count": null,
   "id": "b5ba8c5b",
   "metadata": {},
   "outputs": [],
   "source": []
  },
  {
   "cell_type": "code",
   "execution_count": null,
   "id": "fe62128d",
   "metadata": {},
   "outputs": [],
   "source": []
  },
  {
   "cell_type": "code",
   "execution_count": null,
   "id": "55d55adc",
   "metadata": {},
   "outputs": [],
   "source": []
  }
 ],
 "metadata": {
  "kernelspec": {
   "display_name": "Python 3 (ipykernel)",
   "language": "python",
   "name": "python3"
  },
  "language_info": {
   "codemirror_mode": {
    "name": "ipython",
    "version": 3
   },
   "file_extension": ".py",
   "mimetype": "text/x-python",
   "name": "python",
   "nbconvert_exporter": "python",
   "pygments_lexer": "ipython3",
   "version": "3.10.12"
  }
 },
 "nbformat": 4,
 "nbformat_minor": 5
}
